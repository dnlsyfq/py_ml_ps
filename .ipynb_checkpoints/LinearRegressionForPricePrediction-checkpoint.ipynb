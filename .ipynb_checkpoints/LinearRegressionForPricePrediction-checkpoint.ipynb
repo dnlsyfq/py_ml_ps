{
 "cells": [
  {
   "cell_type": "code",
   "execution_count": 1,
   "metadata": {},
   "outputs": [],
   "source": [
    "import pandas as pd\n",
    "import matplotlib.pyplot as plt"
   ]
  },
  {
   "cell_type": "code",
   "execution_count": 2,
   "metadata": {},
   "outputs": [],
   "source": [
    "housing_data = pd.read_csv('housing.csv')"
   ]
  },
  {
   "cell_type": "code",
   "execution_count": 4,
   "metadata": {},
   "outputs": [
    {
     "data": {
      "text/html": [
       "<div>\n",
       "<style scoped>\n",
       "    .dataframe tbody tr th:only-of-type {\n",
       "        vertical-align: middle;\n",
       "    }\n",
       "\n",
       "    .dataframe tbody tr th {\n",
       "        vertical-align: top;\n",
       "    }\n",
       "\n",
       "    .dataframe thead th {\n",
       "        text-align: right;\n",
       "    }\n",
       "</style>\n",
       "<table border=\"1\" class=\"dataframe\">\n",
       "  <thead>\n",
       "    <tr style=\"text-align: right;\">\n",
       "      <th></th>\n",
       "      <th>longitude</th>\n",
       "      <th>latitude</th>\n",
       "      <th>housing_median_age</th>\n",
       "      <th>total_rooms</th>\n",
       "      <th>total_bedrooms</th>\n",
       "      <th>population</th>\n",
       "      <th>households</th>\n",
       "      <th>median_income</th>\n",
       "      <th>median_house_value</th>\n",
       "      <th>ocean_proximity</th>\n",
       "    </tr>\n",
       "  </thead>\n",
       "  <tbody>\n",
       "    <tr>\n",
       "      <th>9153</th>\n",
       "      <td>-118.53</td>\n",
       "      <td>34.44</td>\n",
       "      <td>19.0</td>\n",
       "      <td>1285.0</td>\n",
       "      <td>195.0</td>\n",
       "      <td>650.0</td>\n",
       "      <td>193.0</td>\n",
       "      <td>6.0398</td>\n",
       "      <td>217800.0</td>\n",
       "      <td>&lt;1H OCEAN</td>\n",
       "    </tr>\n",
       "    <tr>\n",
       "      <th>16261</th>\n",
       "      <td>-121.26</td>\n",
       "      <td>37.96</td>\n",
       "      <td>35.0</td>\n",
       "      <td>1511.0</td>\n",
       "      <td>316.0</td>\n",
       "      <td>892.0</td>\n",
       "      <td>304.0</td>\n",
       "      <td>1.7898</td>\n",
       "      <td>63500.0</td>\n",
       "      <td>INLAND</td>\n",
       "    </tr>\n",
       "    <tr>\n",
       "      <th>11162</th>\n",
       "      <td>-118.00</td>\n",
       "      <td>33.83</td>\n",
       "      <td>26.0</td>\n",
       "      <td>1718.0</td>\n",
       "      <td>385.0</td>\n",
       "      <td>1022.0</td>\n",
       "      <td>368.0</td>\n",
       "      <td>3.9333</td>\n",
       "      <td>196100.0</td>\n",
       "      <td>&lt;1H OCEAN</td>\n",
       "    </tr>\n",
       "    <tr>\n",
       "      <th>4416</th>\n",
       "      <td>-118.26</td>\n",
       "      <td>34.08</td>\n",
       "      <td>50.0</td>\n",
       "      <td>1791.0</td>\n",
       "      <td>660.0</td>\n",
       "      <td>2183.0</td>\n",
       "      <td>675.0</td>\n",
       "      <td>1.7945</td>\n",
       "      <td>166700.0</td>\n",
       "      <td>&lt;1H OCEAN</td>\n",
       "    </tr>\n",
       "    <tr>\n",
       "      <th>1733</th>\n",
       "      <td>-122.35</td>\n",
       "      <td>37.97</td>\n",
       "      <td>43.0</td>\n",
       "      <td>2178.0</td>\n",
       "      <td>482.0</td>\n",
       "      <td>1545.0</td>\n",
       "      <td>471.0</td>\n",
       "      <td>2.5863</td>\n",
       "      <td>112200.0</td>\n",
       "      <td>NEAR BAY</td>\n",
       "    </tr>\n",
       "  </tbody>\n",
       "</table>\n",
       "</div>"
      ],
      "text/plain": [
       "       longitude  latitude  housing_median_age  total_rooms  total_bedrooms  \\\n",
       "9153     -118.53     34.44                19.0       1285.0           195.0   \n",
       "16261    -121.26     37.96                35.0       1511.0           316.0   \n",
       "11162    -118.00     33.83                26.0       1718.0           385.0   \n",
       "4416     -118.26     34.08                50.0       1791.0           660.0   \n",
       "1733     -122.35     37.97                43.0       2178.0           482.0   \n",
       "\n",
       "       population  households  median_income  median_house_value  \\\n",
       "9153        650.0       193.0         6.0398            217800.0   \n",
       "16261       892.0       304.0         1.7898             63500.0   \n",
       "11162      1022.0       368.0         3.9333            196100.0   \n",
       "4416       2183.0       675.0         1.7945            166700.0   \n",
       "1733       1545.0       471.0         2.5863            112200.0   \n",
       "\n",
       "      ocean_proximity  \n",
       "9153        <1H OCEAN  \n",
       "16261          INLAND  \n",
       "11162       <1H OCEAN  \n",
       "4416        <1H OCEAN  \n",
       "1733         NEAR BAY  "
      ]
     },
     "execution_count": 4,
     "metadata": {},
     "output_type": "execute_result"
    }
   ],
   "source": [
    "housing_data.sample(5)"
   ]
  },
  {
   "cell_type": "code",
   "execution_count": 5,
   "metadata": {},
   "outputs": [],
   "source": [
    "housing_data = housing_data.dropna()"
   ]
  },
  {
   "cell_type": "code",
   "execution_count": 6,
   "metadata": {},
   "outputs": [
    {
     "data": {
      "text/plain": [
       "longitude             958\n",
       "latitude              958\n",
       "housing_median_age    958\n",
       "total_rooms           958\n",
       "total_bedrooms        958\n",
       "population            958\n",
       "households            958\n",
       "median_income         958\n",
       "median_house_value    958\n",
       "ocean_proximity       958\n",
       "dtype: int64"
      ]
     },
     "execution_count": 6,
     "metadata": {},
     "output_type": "execute_result"
    }
   ],
   "source": [
    "housing_data.loc[housing_data['median_house_value']== 500001].count()"
   ]
  },
  {
   "cell_type": "code",
   "execution_count": 7,
   "metadata": {},
   "outputs": [],
   "source": [
    "housing_data = housing_data.drop(\n",
    "    housing_data.loc[housing_data['median_house_value']==500001].index\n",
    ")"
   ]
  },
  {
   "cell_type": "code",
   "execution_count": 8,
   "metadata": {},
   "outputs": [
    {
     "data": {
      "text/plain": [
       "(19475, 10)"
      ]
     },
     "execution_count": 8,
     "metadata": {},
     "output_type": "execute_result"
    }
   ],
   "source": [
    "housing_data.shape"
   ]
  },
  {
   "cell_type": "code",
   "execution_count": 9,
   "metadata": {},
   "outputs": [
    {
     "data": {
      "text/plain": [
       "array(['NEAR BAY', '<1H OCEAN', 'INLAND', 'NEAR OCEAN', 'ISLAND'],\n",
       "      dtype=object)"
      ]
     },
     "execution_count": 9,
     "metadata": {},
     "output_type": "execute_result"
    }
   ],
   "source": [
    "housing_data['ocean_proximity'].unique()"
   ]
  },
  {
   "cell_type": "code",
   "execution_count": 11,
   "metadata": {},
   "outputs": [],
   "source": [
    "# convert categorical values to numeric values using one-hot encoding\n",
    "\n",
    "housing_data = pd.get_dummies(\n",
    "    housing_data,\n",
    "    columns=['ocean_proximity']\n",
    ")"
   ]
  },
  {
   "cell_type": "code",
   "execution_count": 12,
   "metadata": {},
   "outputs": [
    {
     "data": {
      "text/plain": [
       "(19475, 14)"
      ]
     },
     "execution_count": 12,
     "metadata": {},
     "output_type": "execute_result"
    }
   ],
   "source": [
    "housing_data.shape"
   ]
  },
  {
   "cell_type": "code",
   "execution_count": 14,
   "metadata": {},
   "outputs": [
    {
     "data": {
      "text/html": [
       "<div>\n",
       "<style scoped>\n",
       "    .dataframe tbody tr th:only-of-type {\n",
       "        vertical-align: middle;\n",
       "    }\n",
       "\n",
       "    .dataframe tbody tr th {\n",
       "        vertical-align: top;\n",
       "    }\n",
       "\n",
       "    .dataframe thead th {\n",
       "        text-align: right;\n",
       "    }\n",
       "</style>\n",
       "<table border=\"1\" class=\"dataframe\">\n",
       "  <thead>\n",
       "    <tr style=\"text-align: right;\">\n",
       "      <th></th>\n",
       "      <th>longitude</th>\n",
       "      <th>latitude</th>\n",
       "      <th>housing_median_age</th>\n",
       "      <th>total_rooms</th>\n",
       "      <th>total_bedrooms</th>\n",
       "      <th>population</th>\n",
       "      <th>households</th>\n",
       "      <th>median_income</th>\n",
       "      <th>median_house_value</th>\n",
       "      <th>ocean_proximity_&lt;1H OCEAN</th>\n",
       "      <th>ocean_proximity_INLAND</th>\n",
       "      <th>ocean_proximity_ISLAND</th>\n",
       "      <th>ocean_proximity_NEAR BAY</th>\n",
       "      <th>ocean_proximity_NEAR OCEAN</th>\n",
       "    </tr>\n",
       "  </thead>\n",
       "  <tbody>\n",
       "    <tr>\n",
       "      <th>807</th>\n",
       "      <td>-122.03</td>\n",
       "      <td>37.62</td>\n",
       "      <td>35.0</td>\n",
       "      <td>2072.0</td>\n",
       "      <td>352.0</td>\n",
       "      <td>1001.0</td>\n",
       "      <td>350.0</td>\n",
       "      <td>4.7109</td>\n",
       "      <td>198700.0</td>\n",
       "      <td>0</td>\n",
       "      <td>0</td>\n",
       "      <td>0</td>\n",
       "      <td>1</td>\n",
       "      <td>0</td>\n",
       "    </tr>\n",
       "    <tr>\n",
       "      <th>3615</th>\n",
       "      <td>-118.44</td>\n",
       "      <td>34.26</td>\n",
       "      <td>34.0</td>\n",
       "      <td>1102.0</td>\n",
       "      <td>212.0</td>\n",
       "      <td>949.0</td>\n",
       "      <td>212.0</td>\n",
       "      <td>4.0792</td>\n",
       "      <td>165100.0</td>\n",
       "      <td>1</td>\n",
       "      <td>0</td>\n",
       "      <td>0</td>\n",
       "      <td>0</td>\n",
       "      <td>0</td>\n",
       "    </tr>\n",
       "    <tr>\n",
       "      <th>2314</th>\n",
       "      <td>-119.71</td>\n",
       "      <td>36.88</td>\n",
       "      <td>17.0</td>\n",
       "      <td>2236.0</td>\n",
       "      <td>315.0</td>\n",
       "      <td>992.0</td>\n",
       "      <td>312.0</td>\n",
       "      <td>6.9405</td>\n",
       "      <td>165200.0</td>\n",
       "      <td>0</td>\n",
       "      <td>1</td>\n",
       "      <td>0</td>\n",
       "      <td>0</td>\n",
       "      <td>0</td>\n",
       "    </tr>\n",
       "    <tr>\n",
       "      <th>13013</th>\n",
       "      <td>-121.26</td>\n",
       "      <td>38.70</td>\n",
       "      <td>9.0</td>\n",
       "      <td>7812.0</td>\n",
       "      <td>1348.0</td>\n",
       "      <td>3275.0</td>\n",
       "      <td>1178.0</td>\n",
       "      <td>4.3826</td>\n",
       "      <td>146600.0</td>\n",
       "      <td>0</td>\n",
       "      <td>1</td>\n",
       "      <td>0</td>\n",
       "      <td>0</td>\n",
       "      <td>0</td>\n",
       "    </tr>\n",
       "    <tr>\n",
       "      <th>10165</th>\n",
       "      <td>-117.94</td>\n",
       "      <td>33.91</td>\n",
       "      <td>18.0</td>\n",
       "      <td>8836.0</td>\n",
       "      <td>1527.0</td>\n",
       "      <td>3946.0</td>\n",
       "      <td>1451.0</td>\n",
       "      <td>5.6441</td>\n",
       "      <td>313000.0</td>\n",
       "      <td>1</td>\n",
       "      <td>0</td>\n",
       "      <td>0</td>\n",
       "      <td>0</td>\n",
       "      <td>0</td>\n",
       "    </tr>\n",
       "  </tbody>\n",
       "</table>\n",
       "</div>"
      ],
      "text/plain": [
       "       longitude  latitude  housing_median_age  total_rooms  total_bedrooms  \\\n",
       "807      -122.03     37.62                35.0       2072.0           352.0   \n",
       "3615     -118.44     34.26                34.0       1102.0           212.0   \n",
       "2314     -119.71     36.88                17.0       2236.0           315.0   \n",
       "13013    -121.26     38.70                 9.0       7812.0          1348.0   \n",
       "10165    -117.94     33.91                18.0       8836.0          1527.0   \n",
       "\n",
       "       population  households  median_income  median_house_value  \\\n",
       "807        1001.0       350.0         4.7109            198700.0   \n",
       "3615        949.0       212.0         4.0792            165100.0   \n",
       "2314        992.0       312.0         6.9405            165200.0   \n",
       "13013      3275.0      1178.0         4.3826            146600.0   \n",
       "10165      3946.0      1451.0         5.6441            313000.0   \n",
       "\n",
       "       ocean_proximity_<1H OCEAN  ocean_proximity_INLAND  \\\n",
       "807                            0                       0   \n",
       "3615                           1                       0   \n",
       "2314                           0                       1   \n",
       "13013                          0                       1   \n",
       "10165                          1                       0   \n",
       "\n",
       "       ocean_proximity_ISLAND  ocean_proximity_NEAR BAY  \\\n",
       "807                         0                         1   \n",
       "3615                        0                         0   \n",
       "2314                        0                         0   \n",
       "13013                       0                         0   \n",
       "10165                       0                         0   \n",
       "\n",
       "       ocean_proximity_NEAR OCEAN  \n",
       "807                             0  \n",
       "3615                            0  \n",
       "2314                            0  \n",
       "13013                           0  \n",
       "10165                           0  "
      ]
     },
     "execution_count": 14,
     "metadata": {},
     "output_type": "execute_result"
    }
   ],
   "source": [
    "housing_data.sample(5)"
   ]
  },
  {
   "cell_type": "code",
   "execution_count": 15,
   "metadata": {},
   "outputs": [],
   "source": [
    "X = housing_data.drop('median_house_value',axis=1)\n",
    "Y = housing_data['median_house_value']"
   ]
  },
  {
   "cell_type": "code",
   "execution_count": 16,
   "metadata": {},
   "outputs": [],
   "source": [
    "from sklearn.model_selection import train_test_split\n",
    "\n",
    "x_train,x_test,y_train,y_test = train_test_split(X,Y,test_size=0.2)"
   ]
  },
  {
   "cell_type": "code",
   "execution_count": 17,
   "metadata": {},
   "outputs": [
    {
     "data": {
      "text/plain": [
       "((15580, 13), (3895, 13))"
      ]
     },
     "execution_count": 17,
     "metadata": {},
     "output_type": "execute_result"
    }
   ],
   "source": [
    "x_train.shape , x_test.shape"
   ]
  },
  {
   "cell_type": "code",
   "execution_count": 20,
   "metadata": {},
   "outputs": [],
   "source": [
    "from sklearn.linear_model import LinearRegression\n",
    "\n",
    "# normalization scales all numeric features to be between 0 and 1\n",
    "linear_model = LinearRegression(normalize=True).fit(x_train,y_train)\n",
    "\n"
   ]
  },
  {
   "cell_type": "code",
   "execution_count": 26,
   "metadata": {},
   "outputs": [
    {
     "name": "stdout",
     "output_type": "stream",
     "text": [
      "Training score: 0.62\n"
     ]
    }
   ],
   "source": [
    "# r square score measure how well our linear model captures underlying variation\n",
    "print(\"Training score: {:.2f}\".format(linear_model.score(x_train,y_train)))"
   ]
  },
  {
   "cell_type": "code",
   "execution_count": 27,
   "metadata": {},
   "outputs": [
    {
     "data": {
      "text/plain": [
       "Index(['longitude', 'latitude', 'housing_median_age', 'total_rooms',\n",
       "       'total_bedrooms', 'population', 'households', 'median_income',\n",
       "       'ocean_proximity_<1H OCEAN', 'ocean_proximity_INLAND',\n",
       "       'ocean_proximity_ISLAND', 'ocean_proximity_NEAR BAY',\n",
       "       'ocean_proximity_NEAR OCEAN'],\n",
       "      dtype='object')"
      ]
     },
     "execution_count": 27,
     "metadata": {},
     "output_type": "execute_result"
    }
   ],
   "source": [
    "# predictors\n",
    "\n",
    "x_train.columns"
   ]
  },
  {
   "cell_type": "markdown",
   "metadata": {},
   "source": [
    "$y = wx + c$\n",
    "\n",
    "* x , features"
   ]
  },
  {
   "cell_type": "code",
   "execution_count": 30,
   "metadata": {},
   "outputs": [
    {
     "data": {
      "text/plain": [
       "ocean_proximity_INLAND        -25750.200265\n",
       "longitude                     -23927.343950\n",
       "latitude                      -22274.100467\n",
       "population                       -34.717898\n",
       "total_rooms                       -7.296232\n",
       "households                        47.575351\n",
       "total_bedrooms                    97.495238\n",
       "housing_median_age               940.947074\n",
       "ocean_proximity_NEAR BAY        7021.945916\n",
       "ocean_proximity_<1H OCEAN      12963.960729\n",
       "ocean_proximity_NEAR OCEAN     16375.723096\n",
       "median_income                  38795.524037\n",
       "ocean_proximity_ISLAND        176279.892012\n",
       "dtype: float64"
      ]
     },
     "execution_count": 30,
     "metadata": {},
     "output_type": "execute_result"
    }
   ],
   "source": [
    "# predictors contribute to the weights\n",
    "# highest coef house near island \n",
    "pd.Series(linear_model.coef_,x_train.columns).sort_values()"
   ]
  },
  {
   "cell_type": "code",
   "execution_count": 32,
   "metadata": {},
   "outputs": [],
   "source": [
    "y_pred = linear_model.predict(x_test)"
   ]
  },
  {
   "cell_type": "code",
   "execution_count": 34,
   "metadata": {},
   "outputs": [
    {
     "data": {
      "text/html": [
       "<div>\n",
       "<style scoped>\n",
       "    .dataframe tbody tr th:only-of-type {\n",
       "        vertical-align: middle;\n",
       "    }\n",
       "\n",
       "    .dataframe tbody tr th {\n",
       "        vertical-align: top;\n",
       "    }\n",
       "\n",
       "    .dataframe thead th {\n",
       "        text-align: right;\n",
       "    }\n",
       "</style>\n",
       "<table border=\"1\" class=\"dataframe\">\n",
       "  <thead>\n",
       "    <tr style=\"text-align: right;\">\n",
       "      <th></th>\n",
       "      <th>predicted</th>\n",
       "      <th>actual</th>\n",
       "    </tr>\n",
       "  </thead>\n",
       "  <tbody>\n",
       "    <tr>\n",
       "      <th>6709</th>\n",
       "      <td>141891.825551</td>\n",
       "      <td>187500.0</td>\n",
       "    </tr>\n",
       "    <tr>\n",
       "      <th>4214</th>\n",
       "      <td>150417.128239</td>\n",
       "      <td>208900.0</td>\n",
       "    </tr>\n",
       "    <tr>\n",
       "      <th>19148</th>\n",
       "      <td>235871.552328</td>\n",
       "      <td>135500.0</td>\n",
       "    </tr>\n",
       "    <tr>\n",
       "      <th>19385</th>\n",
       "      <td>76791.926946</td>\n",
       "      <td>77300.0</td>\n",
       "    </tr>\n",
       "    <tr>\n",
       "      <th>9334</th>\n",
       "      <td>269679.305409</td>\n",
       "      <td>255400.0</td>\n",
       "    </tr>\n",
       "    <tr>\n",
       "      <th>...</th>\n",
       "      <td>...</td>\n",
       "      <td>...</td>\n",
       "    </tr>\n",
       "    <tr>\n",
       "      <th>12376</th>\n",
       "      <td>325240.324147</td>\n",
       "      <td>158500.0</td>\n",
       "    </tr>\n",
       "    <tr>\n",
       "      <th>12625</th>\n",
       "      <td>202900.660135</td>\n",
       "      <td>174500.0</td>\n",
       "    </tr>\n",
       "    <tr>\n",
       "      <th>3483</th>\n",
       "      <td>165034.816292</td>\n",
       "      <td>160200.0</td>\n",
       "    </tr>\n",
       "    <tr>\n",
       "      <th>16337</th>\n",
       "      <td>175941.638709</td>\n",
       "      <td>148200.0</td>\n",
       "    </tr>\n",
       "    <tr>\n",
       "      <th>6272</th>\n",
       "      <td>199319.415391</td>\n",
       "      <td>149000.0</td>\n",
       "    </tr>\n",
       "  </tbody>\n",
       "</table>\n",
       "<p>3895 rows × 2 columns</p>\n",
       "</div>"
      ],
      "text/plain": [
       "           predicted    actual\n",
       "6709   141891.825551  187500.0\n",
       "4214   150417.128239  208900.0\n",
       "19148  235871.552328  135500.0\n",
       "19385   76791.926946   77300.0\n",
       "9334   269679.305409  255400.0\n",
       "...              ...       ...\n",
       "12376  325240.324147  158500.0\n",
       "12625  202900.660135  174500.0\n",
       "3483   165034.816292  160200.0\n",
       "16337  175941.638709  148200.0\n",
       "6272   199319.415391  149000.0\n",
       "\n",
       "[3895 rows x 2 columns]"
      ]
     },
     "execution_count": 34,
     "metadata": {},
     "output_type": "execute_result"
    }
   ],
   "source": [
    "pd.DataFrame({'predicted':y_pred,'actual':y_test})"
   ]
  },
  {
   "cell_type": "code",
   "execution_count": 35,
   "metadata": {},
   "outputs": [
    {
     "name": "stdout",
     "output_type": "stream",
     "text": [
      "Testing score: 0.5772742567887252\n"
     ]
    }
   ],
   "source": [
    "from sklearn.metrics import r2_score\n",
    "\n",
    "print(\"Testing score: {}\".format(r2_score(y_test,y_pred)))"
   ]
  },
  {
   "cell_type": "code",
   "execution_count": 36,
   "metadata": {},
   "outputs": [
    {
     "data": {
      "image/png": "[encoded data removed]",
      "text/plain": [
       "<Figure size 864x576 with 1 Axes>"
      ]
     },
     "metadata": {
      "needs_background": "light"
     },
     "output_type": "display_data"
    }
   ],
   "source": [
    "fig, ax =plt.subplots(figsize=(12,8))\n",
    "\n",
    "plt.scatter(y_test,y_pred)\n",
    "\n",
    "plt.show()"
   ]
  },
  {
   "cell_type": "code",
   "execution_count": 37,
   "metadata": {},
   "outputs": [],
   "source": [
    "df_pred_actual = pd.DataFrame({'predicted':y_pred,'actual':y_test})"
   ]
  },
  {
   "cell_type": "code",
   "execution_count": 38,
   "metadata": {},
   "outputs": [],
   "source": [
    "df_pred_actual_sample = df_pred_actual.sample(100).reset_index()\n"
   ]
  },
  {
   "cell_type": "code",
   "execution_count": 39,
   "metadata": {},
   "outputs": [
    {
     "data": {
      "text/html": [
       "<div>\n",
       "<style scoped>\n",
       "    .dataframe tbody tr th:only-of-type {\n",
       "        vertical-align: middle;\n",
       "    }\n",
       "\n",
       "    .dataframe tbody tr th {\n",
       "        vertical-align: top;\n",
       "    }\n",
       "\n",
       "    .dataframe thead th {\n",
       "        text-align: right;\n",
       "    }\n",
       "</style>\n",
       "<table border=\"1\" class=\"dataframe\">\n",
       "  <thead>\n",
       "    <tr style=\"text-align: right;\">\n",
       "      <th></th>\n",
       "      <th>index</th>\n",
       "      <th>predicted</th>\n",
       "      <th>actual</th>\n",
       "    </tr>\n",
       "  </thead>\n",
       "  <tbody>\n",
       "    <tr>\n",
       "      <th>0</th>\n",
       "      <td>18440</td>\n",
       "      <td>235965.289876</td>\n",
       "      <td>234400.0</td>\n",
       "    </tr>\n",
       "    <tr>\n",
       "      <th>1</th>\n",
       "      <td>11108</td>\n",
       "      <td>195230.130184</td>\n",
       "      <td>273000.0</td>\n",
       "    </tr>\n",
       "    <tr>\n",
       "      <th>2</th>\n",
       "      <td>3406</td>\n",
       "      <td>196703.912341</td>\n",
       "      <td>200600.0</td>\n",
       "    </tr>\n",
       "    <tr>\n",
       "      <th>3</th>\n",
       "      <td>6810</td>\n",
       "      <td>168367.357553</td>\n",
       "      <td>210900.0</td>\n",
       "    </tr>\n",
       "    <tr>\n",
       "      <th>4</th>\n",
       "      <td>16236</td>\n",
       "      <td>105921.665079</td>\n",
       "      <td>98800.0</td>\n",
       "    </tr>\n",
       "    <tr>\n",
       "      <th>...</th>\n",
       "      <td>...</td>\n",
       "      <td>...</td>\n",
       "      <td>...</td>\n",
       "    </tr>\n",
       "    <tr>\n",
       "      <th>95</th>\n",
       "      <td>11493</td>\n",
       "      <td>164302.440559</td>\n",
       "      <td>350000.0</td>\n",
       "    </tr>\n",
       "    <tr>\n",
       "      <th>96</th>\n",
       "      <td>2999</td>\n",
       "      <td>141522.041946</td>\n",
       "      <td>88200.0</td>\n",
       "    </tr>\n",
       "    <tr>\n",
       "      <th>97</th>\n",
       "      <td>10905</td>\n",
       "      <td>143174.329799</td>\n",
       "      <td>117500.0</td>\n",
       "    </tr>\n",
       "    <tr>\n",
       "      <th>98</th>\n",
       "      <td>427</td>\n",
       "      <td>229741.397446</td>\n",
       "      <td>272900.0</td>\n",
       "    </tr>\n",
       "    <tr>\n",
       "      <th>99</th>\n",
       "      <td>1382</td>\n",
       "      <td>251604.032357</td>\n",
       "      <td>199900.0</td>\n",
       "    </tr>\n",
       "  </tbody>\n",
       "</table>\n",
       "<p>100 rows × 3 columns</p>\n",
       "</div>"
      ],
      "text/plain": [
       "    index      predicted    actual\n",
       "0   18440  235965.289876  234400.0\n",
       "1   11108  195230.130184  273000.0\n",
       "2    3406  196703.912341  200600.0\n",
       "3    6810  168367.357553  210900.0\n",
       "4   16236  105921.665079   98800.0\n",
       "..    ...            ...       ...\n",
       "95  11493  164302.440559  350000.0\n",
       "96   2999  141522.041946   88200.0\n",
       "97  10905  143174.329799  117500.0\n",
       "98    427  229741.397446  272900.0\n",
       "99   1382  251604.032357  199900.0\n",
       "\n",
       "[100 rows x 3 columns]"
      ]
     },
     "execution_count": 39,
     "metadata": {},
     "output_type": "execute_result"
    }
   ],
   "source": [
    "df_pred_actual_sample"
   ]
  },
  {
   "cell_type": "code",
   "execution_count": 40,
   "metadata": {},
   "outputs": [
    {
     "data": {
      "image/png": "[encoded data removed]",
      "text/plain": [
       "<Figure size 1440x720 with 1 Axes>"
      ]
     },
     "metadata": {
      "needs_background": "light"
     },
     "output_type": "display_data"
    }
   ],
   "source": [
    "plt.figure(figsize=(20,10))\n",
    "plt.plot(df_pred_actual_sample['predicted'],label='Predicted')\n",
    "plt.plot(df_pred_actual_sample['actual'],label='Actual')\n",
    "plt.ylabel('median house value')\n",
    "plt.legend()\n",
    "plt.show()"
   ]
  },
  {
   "cell_type": "markdown",
   "metadata": {},
   "source": [
    "## Building Classification Models\n",
    "\n",
    "### Logistics Regression\n",
    "\n",
    "helps find how probabilities are changed by action \n",
    "\n",
    "* y : Hit or miss ? 0 or 1 ?\n",
    "* x : start time before deadline\n",
    "* meeting deadline : p(y) : Probability of y = 1\n",
    "* miss deadline : 1 - p(y)"
   ]
  },
  {
   "cell_type": "markdown",
   "metadata": {},
   "source": [
    "logistic regression involves finding best fit \n",
    "\n",
    "$\\large p(y_i) = \\frac{1}{1+e^{-(A+Bx_i)}}$\n",
    "\n",
    "* A is the intercept\n",
    "* B is the regression coefficient\n",
    "* e , 2.71828"
   ]
  },
  {
   "cell_type": "code",
   "execution_count": 41,
   "metadata": {},
   "outputs": [],
   "source": [
    "import pandas as pd \n",
    "import matplotlib.pyplot as plt"
   ]
  },
  {
   "cell_type": "code",
   "execution_count": 42,
   "metadata": {},
   "outputs": [
    {
     "data": {
      "text/html": [
       "<div>\n",
       "<style scoped>\n",
       "    .dataframe tbody tr th:only-of-type {\n",
       "        vertical-align: middle;\n",
       "    }\n",
       "\n",
       "    .dataframe tbody tr th {\n",
       "        vertical-align: top;\n",
       "    }\n",
       "\n",
       "    .dataframe thead th {\n",
       "        text-align: right;\n",
       "    }\n",
       "</style>\n",
       "<table border=\"1\" class=\"dataframe\">\n",
       "  <thead>\n",
       "    <tr style=\"text-align: right;\">\n",
       "      <th></th>\n",
       "      <th>longitude</th>\n",
       "      <th>latitude</th>\n",
       "      <th>housing_median_age</th>\n",
       "      <th>total_rooms</th>\n",
       "      <th>total_bedrooms</th>\n",
       "      <th>population</th>\n",
       "      <th>households</th>\n",
       "      <th>median_income</th>\n",
       "      <th>median_house_value</th>\n",
       "      <th>ocean_proximity</th>\n",
       "    </tr>\n",
       "  </thead>\n",
       "  <tbody>\n",
       "    <tr>\n",
       "      <th>4718</th>\n",
       "      <td>-118.38</td>\n",
       "      <td>34.06</td>\n",
       "      <td>31.0</td>\n",
       "      <td>4345.0</td>\n",
       "      <td>1158.0</td>\n",
       "      <td>1987.0</td>\n",
       "      <td>1070.0</td>\n",
       "      <td>2.8233</td>\n",
       "      <td>310000.0</td>\n",
       "      <td>&lt;1H OCEAN</td>\n",
       "    </tr>\n",
       "    <tr>\n",
       "      <th>10878</th>\n",
       "      <td>-117.88</td>\n",
       "      <td>33.72</td>\n",
       "      <td>36.0</td>\n",
       "      <td>1910.0</td>\n",
       "      <td>352.0</td>\n",
       "      <td>1593.0</td>\n",
       "      <td>329.0</td>\n",
       "      <td>3.8900</td>\n",
       "      <td>170000.0</td>\n",
       "      <td>&lt;1H OCEAN</td>\n",
       "    </tr>\n",
       "    <tr>\n",
       "      <th>5026</th>\n",
       "      <td>-118.33</td>\n",
       "      <td>33.99</td>\n",
       "      <td>43.0</td>\n",
       "      <td>2224.0</td>\n",
       "      <td>550.0</td>\n",
       "      <td>1598.0</td>\n",
       "      <td>545.0</td>\n",
       "      <td>2.8274</td>\n",
       "      <td>122500.0</td>\n",
       "      <td>&lt;1H OCEAN</td>\n",
       "    </tr>\n",
       "    <tr>\n",
       "      <th>8922</th>\n",
       "      <td>-118.49</td>\n",
       "      <td>34.02</td>\n",
       "      <td>28.0</td>\n",
       "      <td>1394.0</td>\n",
       "      <td>582.0</td>\n",
       "      <td>716.0</td>\n",
       "      <td>543.0</td>\n",
       "      <td>1.5132</td>\n",
       "      <td>450000.0</td>\n",
       "      <td>&lt;1H OCEAN</td>\n",
       "    </tr>\n",
       "    <tr>\n",
       "      <th>12049</th>\n",
       "      <td>-117.56</td>\n",
       "      <td>33.88</td>\n",
       "      <td>36.0</td>\n",
       "      <td>838.0</td>\n",
       "      <td>210.0</td>\n",
       "      <td>722.0</td>\n",
       "      <td>180.0</td>\n",
       "      <td>2.4861</td>\n",
       "      <td>96200.0</td>\n",
       "      <td>INLAND</td>\n",
       "    </tr>\n",
       "  </tbody>\n",
       "</table>\n",
       "</div>"
      ],
      "text/plain": [
       "       longitude  latitude  housing_median_age  total_rooms  total_bedrooms  \\\n",
       "4718     -118.38     34.06                31.0       4345.0          1158.0   \n",
       "10878    -117.88     33.72                36.0       1910.0           352.0   \n",
       "5026     -118.33     33.99                43.0       2224.0           550.0   \n",
       "8922     -118.49     34.02                28.0       1394.0           582.0   \n",
       "12049    -117.56     33.88                36.0        838.0           210.0   \n",
       "\n",
       "       population  households  median_income  median_house_value  \\\n",
       "4718       1987.0      1070.0         2.8233            310000.0   \n",
       "10878      1593.0       329.0         3.8900            170000.0   \n",
       "5026       1598.0       545.0         2.8274            122500.0   \n",
       "8922        716.0       543.0         1.5132            450000.0   \n",
       "12049       722.0       180.0         2.4861             96200.0   \n",
       "\n",
       "      ocean_proximity  \n",
       "4718        <1H OCEAN  \n",
       "10878       <1H OCEAN  \n",
       "5026        <1H OCEAN  \n",
       "8922        <1H OCEAN  \n",
       "12049          INLAND  "
      ]
     },
     "execution_count": 42,
     "metadata": {},
     "output_type": "execute_result"
    }
   ],
   "source": [
    "housing_data = pd.read_csv('housing.csv')\n",
    "housing_data.sample(5)"
   ]
  },
  {
   "cell_type": "code",
   "execution_count": 43,
   "metadata": {},
   "outputs": [],
   "source": [
    "housing_data = housing_data.dropna()"
   ]
  },
  {
   "cell_type": "code",
   "execution_count": 44,
   "metadata": {},
   "outputs": [],
   "source": [
    "housing_data = housing_data.drop(\n",
    "    housing_data.loc[housing_data['median_house_value']==500001].index\n",
    ")"
   ]
  },
  {
   "cell_type": "code",
   "execution_count": 45,
   "metadata": {},
   "outputs": [
    {
     "data": {
      "text/plain": [
       "(19475, 10)"
      ]
     },
     "execution_count": 45,
     "metadata": {},
     "output_type": "execute_result"
    }
   ],
   "source": [
    "housing_data.shape"
   ]
  },
  {
   "cell_type": "code",
   "execution_count": 46,
   "metadata": {},
   "outputs": [
    {
     "data": {
      "text/plain": [
       "array(['NEAR BAY', '<1H OCEAN', 'INLAND', 'NEAR OCEAN', 'ISLAND'],\n",
       "      dtype=object)"
      ]
     },
     "execution_count": 46,
     "metadata": {},
     "output_type": "execute_result"
    }
   ],
   "source": [
    "housing_data['ocean_proximity'].unique()"
   ]
  },
  {
   "cell_type": "code",
   "execution_count": 47,
   "metadata": {},
   "outputs": [],
   "source": [
    "housing_data = pd.get_dummies(\n",
    "    housing_data,\n",
    "    columns=['ocean_proximity']\n",
    ")"
   ]
  },
  {
   "cell_type": "code",
   "execution_count": 48,
   "metadata": {},
   "outputs": [
    {
     "data": {
      "text/plain": [
       "173800.0"
      ]
     },
     "execution_count": 48,
     "metadata": {},
     "output_type": "execute_result"
    }
   ],
   "source": [
    "median = housing_data['median_house_value'].median()\n",
    "median"
   ]
  },
  {
   "cell_type": "code",
   "execution_count": 49,
   "metadata": {},
   "outputs": [],
   "source": [
    "housing_data['above_median'] = (housing_data['median_house_value'] - median) > 0"
   ]
  },
  {
   "cell_type": "code",
   "execution_count": 50,
   "metadata": {},
   "outputs": [],
   "source": [
    "X = housing_data.drop(['median_house_value','above_median'],axis=1)\n",
    "Y = housing_data['above_median']"
   ]
  },
  {
   "cell_type": "code",
   "execution_count": 51,
   "metadata": {},
   "outputs": [
    {
     "data": {
      "text/plain": [
       "Index(['longitude', 'latitude', 'housing_median_age', 'total_rooms',\n",
       "       'total_bedrooms', 'population', 'households', 'median_income',\n",
       "       'ocean_proximity_<1H OCEAN', 'ocean_proximity_INLAND',\n",
       "       'ocean_proximity_ISLAND', 'ocean_proximity_NEAR BAY',\n",
       "       'ocean_proximity_NEAR OCEAN'],\n",
       "      dtype='object')"
      ]
     },
     "execution_count": 51,
     "metadata": {},
     "output_type": "execute_result"
    }
   ],
   "source": [
    "X.columns"
   ]
  },
  {
   "cell_type": "code",
   "execution_count": 52,
   "metadata": {},
   "outputs": [],
   "source": [
    "from sklearn.model_selection import train_test_split\n",
    "x_train, x_test, y_train, y_test = train_test_split(\n",
    "    X,Y,test_size=0.2\n",
    ")"
   ]
  },
  {
   "cell_type": "code",
   "execution_count": 53,
   "metadata": {},
   "outputs": [
    {
     "data": {
      "text/plain": [
       "((15580, 13), (3895, 13))"
      ]
     },
     "execution_count": 53,
     "metadata": {},
     "output_type": "execute_result"
    }
   ],
   "source": [
    "x_train.shape,x_test.shape"
   ]
  },
  {
   "cell_type": "code",
   "execution_count": 55,
   "metadata": {},
   "outputs": [],
   "source": [
    "# 'liblinear' good choice for small datasets and binary classification ,0,1\n",
    "from sklearn.linear_model import LogisticRegression\n",
    "logistic_model = LogisticRegression(solver='liblinear').fit(x_train,y_train)"
   ]
  },
  {
   "cell_type": "code",
   "execution_count": 56,
   "metadata": {},
   "outputs": [
    {
     "data": {
      "text/plain": [
       "'Training score: 0.8214377406931964'"
      ]
     },
     "execution_count": 56,
     "metadata": {},
     "output_type": "execute_result"
    }
   ],
   "source": [
    "\"Training score: {}\".format(logistic_model.score(x_train,y_train))"
   ]
  },
  {
   "cell_type": "code",
   "execution_count": 57,
   "metadata": {},
   "outputs": [],
   "source": [
    "y_pred = logistic_model.predict(x_test)"
   ]
  },
  {
   "cell_type": "code",
   "execution_count": 58,
   "metadata": {},
   "outputs": [],
   "source": [
    "df_pred_actual = pd.DataFrame({'predicted':y_pred,'actual':y_test})"
   ]
  },
  {
   "cell_type": "code",
   "execution_count": 59,
   "metadata": {},
   "outputs": [
    {
     "data": {
      "text/html": [
       "<div>\n",
       "<style scoped>\n",
       "    .dataframe tbody tr th:only-of-type {\n",
       "        vertical-align: middle;\n",
       "    }\n",
       "\n",
       "    .dataframe tbody tr th {\n",
       "        vertical-align: top;\n",
       "    }\n",
       "\n",
       "    .dataframe thead th {\n",
       "        text-align: right;\n",
       "    }\n",
       "</style>\n",
       "<table border=\"1\" class=\"dataframe\">\n",
       "  <thead>\n",
       "    <tr style=\"text-align: right;\">\n",
       "      <th></th>\n",
       "      <th>predicted</th>\n",
       "      <th>actual</th>\n",
       "    </tr>\n",
       "  </thead>\n",
       "  <tbody>\n",
       "    <tr>\n",
       "      <th>16323</th>\n",
       "      <td>False</td>\n",
       "      <td>False</td>\n",
       "    </tr>\n",
       "    <tr>\n",
       "      <th>8217</th>\n",
       "      <td>False</td>\n",
       "      <td>False</td>\n",
       "    </tr>\n",
       "    <tr>\n",
       "      <th>12422</th>\n",
       "      <td>False</td>\n",
       "      <td>False</td>\n",
       "    </tr>\n",
       "    <tr>\n",
       "      <th>12431</th>\n",
       "      <td>False</td>\n",
       "      <td>False</td>\n",
       "    </tr>\n",
       "    <tr>\n",
       "      <th>3988</th>\n",
       "      <td>True</td>\n",
       "      <td>True</td>\n",
       "    </tr>\n",
       "    <tr>\n",
       "      <th>...</th>\n",
       "      <td>...</td>\n",
       "      <td>...</td>\n",
       "    </tr>\n",
       "    <tr>\n",
       "      <th>7460</th>\n",
       "      <td>False</td>\n",
       "      <td>False</td>\n",
       "    </tr>\n",
       "    <tr>\n",
       "      <th>18057</th>\n",
       "      <td>True</td>\n",
       "      <td>True</td>\n",
       "    </tr>\n",
       "    <tr>\n",
       "      <th>1554</th>\n",
       "      <td>True</td>\n",
       "      <td>True</td>\n",
       "    </tr>\n",
       "    <tr>\n",
       "      <th>3690</th>\n",
       "      <td>True</td>\n",
       "      <td>False</td>\n",
       "    </tr>\n",
       "    <tr>\n",
       "      <th>16799</th>\n",
       "      <td>True</td>\n",
       "      <td>True</td>\n",
       "    </tr>\n",
       "  </tbody>\n",
       "</table>\n",
       "<p>3895 rows × 2 columns</p>\n",
       "</div>"
      ],
      "text/plain": [
       "       predicted  actual\n",
       "16323      False   False\n",
       "8217       False   False\n",
       "12422      False   False\n",
       "12431      False   False\n",
       "3988        True    True\n",
       "...          ...     ...\n",
       "7460       False   False\n",
       "18057       True    True\n",
       "1554        True    True\n",
       "3690        True   False\n",
       "16799       True    True\n",
       "\n",
       "[3895 rows x 2 columns]"
      ]
     },
     "execution_count": 59,
     "metadata": {},
     "output_type": "execute_result"
    }
   ],
   "source": [
    "df_pred_actual"
   ]
  },
  {
   "cell_type": "code",
   "execution_count": 60,
   "metadata": {},
   "outputs": [],
   "source": [
    "from sklearn.metrics import accuracy_score\n"
   ]
  },
  {
   "cell_type": "code",
   "execution_count": 61,
   "metadata": {},
   "outputs": [
    {
     "data": {
      "text/plain": [
       "'Testing score: 0.817201540436457'"
      ]
     },
     "execution_count": 61,
     "metadata": {},
     "output_type": "execute_result"
    }
   ],
   "source": [
    "\"Testing score: {}\".format(accuracy_score(y_test,y_pred))"
   ]
  },
  {
   "cell_type": "code",
   "execution_count": null,
   "metadata": {},
   "outputs": [],
   "source": []
  }
 ],
 "metadata": {
  "kernelspec": {
   "display_name": "Python 3.7.4 64-bit",
   "language": "python",
   "name": "python37464bit35311e3470d14a38b7fcc4af78d751a3"
  },
  "language_info": {
   "codemirror_mode": {
    "name": "ipython",
    "version": 3
   },
   "file_extension": ".py",
   "mimetype": "text/x-python",
   "name": "python",
   "nbconvert_exporter": "python",
   "pygments_lexer": "ipython3",
   "version": "3.7.4"
  }
 },
 "nbformat": 4,
 "nbformat_minor": 2
}
